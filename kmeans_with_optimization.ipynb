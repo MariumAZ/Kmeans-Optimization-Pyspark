{
  "nbformat": 4,
  "nbformat_minor": 0,
  "metadata": {
    "kernelspec": {
      "display_name": "Python 3",
      "language": "python",
      "name": "python3"
    },
    "language_info": {
      "codemirror_mode": {
        "name": "ipython",
        "version": 3
      },
      "file_extension": ".py",
      "mimetype": "text/x-python",
      "name": "python",
      "nbconvert_exporter": "python",
      "pygments_lexer": "ipython3",
      "version": "3.7.3"
    },
    "colab": {
      "name": "final.ipynb",
      "provenance": [],
      "collapsed_sections": []
    }
  },
  "cells": [
    {
      "cell_type": "code",
      "metadata": {
        "id": "akK5Q2Oci3XG",
        "colab_type": "code",
        "colab": {}
      },
      "source": [
        "!apt-get install openjdk-8-jdk-headless -qq > /dev/null\n",
        "!wget -q https://www-us.apache.org/dist/spark/spark-2.4.4/spark-2.4.4-bin-hadoop2.7.tgz\n",
        "!tar xf spark-2.4.4-bin-hadoop2.7.tgz\n",
        "!pip install -q findspark"
      ],
      "execution_count": 0,
      "outputs": []
    },
    {
      "cell_type": "code",
      "metadata": {
        "id": "ftt3FoUmjGAV",
        "colab_type": "code",
        "colab": {}
      },
      "source": [
        "import os\n",
        "os.environ[\"JAVA_HOME\"] = \"/usr/lib/jvm/java-8-openjdk-amd64\"\n",
        "os.environ[\"SPARK_HOME\"] = \"/content/spark-2.4.4-bin-hadoop2.7\"\n",
        "\n",
        "import findspark\n",
        "findspark.init()\n",
        "from pyspark.sql import SparkSession\n",
        "spark = SparkSession.builder.master(\"local[*]\").getOrCreate()"
      ],
      "execution_count": 0,
      "outputs": []
    },
    {
      "cell_type": "code",
      "metadata": {
        "id": "w8QaH3WFjVb2",
        "colab_type": "code",
        "outputId": "2c3bd3b4-314b-42eb-ac79-e7f2d2afae7e",
        "colab": {
          "base_uri": "https://localhost:8080/",
          "height": 389
        }
      },
      "source": [
        "!wget  https://www.dropbox.com/s/9kits2euwawcsj0/iris.data.txt"
      ],
      "execution_count": 4,
      "outputs": [
        {
          "output_type": "stream",
          "text": [
            "--2020-01-20 13:06:54--  https://www.dropbox.com/s/9kits2euwawcsj0/iris.data.txt\n",
            "Resolving www.dropbox.com (www.dropbox.com)... 162.125.1.1, 2620:100:6016:1::a27d:101\n",
            "Connecting to www.dropbox.com (www.dropbox.com)|162.125.1.1|:443... connected.\n",
            "HTTP request sent, awaiting response... 301 Moved Permanently\n",
            "Location: /s/raw/9kits2euwawcsj0/iris.data.txt [following]\n",
            "--2020-01-20 13:06:54--  https://www.dropbox.com/s/raw/9kits2euwawcsj0/iris.data.txt\n",
            "Reusing existing connection to www.dropbox.com:443.\n",
            "HTTP request sent, awaiting response... 302 Found\n",
            "Location: https://uc6dcd282ae658395859abe42726.dl.dropboxusercontent.com/cd/0/inline/AwjxnmnbgLcjSAnqMs7t3at0Lr6Z2tF5ExJSXnqFhUEtBvpUXXZ57YGBIbcMubN-3Ni2j9d045bfX3_VYadRaq3qb4eU40yl1t9EsZpqRJRk_Q/file# [following]\n",
            "--2020-01-20 13:06:54--  https://uc6dcd282ae658395859abe42726.dl.dropboxusercontent.com/cd/0/inline/AwjxnmnbgLcjSAnqMs7t3at0Lr6Z2tF5ExJSXnqFhUEtBvpUXXZ57YGBIbcMubN-3Ni2j9d045bfX3_VYadRaq3qb4eU40yl1t9EsZpqRJRk_Q/file\n",
            "Resolving uc6dcd282ae658395859abe42726.dl.dropboxusercontent.com (uc6dcd282ae658395859abe42726.dl.dropboxusercontent.com)... 162.125.1.6, 2620:100:6016:6::a27d:106\n",
            "Connecting to uc6dcd282ae658395859abe42726.dl.dropboxusercontent.com (uc6dcd282ae658395859abe42726.dl.dropboxusercontent.com)|162.125.1.6|:443... connected.\n",
            "HTTP request sent, awaiting response... 200 OK\n",
            "Length: 4550 (4.4K) [text/plain]\n",
            "Saving to: ‘iris.data.txt’\n",
            "\n",
            "\riris.data.txt         0%[                    ]       0  --.-KB/s               \riris.data.txt       100%[===================>]   4.44K  --.-KB/s    in 0s      \n",
            "\n",
            "2020-01-20 13:06:55 (325 MB/s) - ‘iris.data.txt’ saved [4550/4550]\n",
            "\n"
          ],
          "name": "stdout"
        }
      ]
    },
    {
      "cell_type": "code",
      "metadata": {
        "id": "eP21kMeejf8o",
        "colab_type": "code",
        "colab": {}
      },
      "source": [
        "from pyspark import SparkContext, SparkConf\n",
        "from math import sqrt\n",
        "sc=SparkContext.getOrCreate()"
      ],
      "execution_count": 0,
      "outputs": []
    },
    {
      "cell_type": "code",
      "metadata": {
        "id": "2Mo9tUhIjm_x",
        "colab_type": "code",
        "colab": {}
      },
      "source": [
        "\n",
        "def computeDistance(x,y):\n",
        "    return sqrt(sum([(a - b)**2 for a,b in zip(x,y)]))\n",
        " \n",
        " \n",
        "def closestCluster(dist_list):\n",
        "    cluster = dist_list[0][0]\n",
        "    min_dist = dist_list[0][1]\n",
        "    for elem in dist_list:\n",
        "        if elem[1] < min_dist:\n",
        "            cluster = elem[0]\n",
        "            min_dist = elem[1]\n",
        "    return (cluster,min_dist)\n",
        " \n",
        "def sumList(x,y):\n",
        "    return [x[i]+y[i] for i in range(len(x))]\n",
        " \n",
        "def moyenneList(x,n):\n",
        "    return [x[i]/n for i in range(len(x))]\n",
        " \n",
        "def simpleKmeans(data, nb_clusters):\n",
        "    clusteringDone = False\n",
        "    number_of_steps = 0\n",
        "    current_error = float(\"inf\")\n",
        "    \n",
        "    nb_elem = sc.broadcast(data.count())\n",
        " \n",
        "\n",
        " \n",
        "    centroides = sc.parallelize(data.takeSample('withoutReplacment',nb_clusters))\\\n",
        "              .zipWithIndex()\\\n",
        "              .map(lambda x: (x[1],x[0][1][:-1]))\n",
        "\n",
        "#---------------------------------------------------------------OPTIMISATION : BROADCAST-------------------------------------------------------------------------------------------\n",
        "    sc.broadcast(centroides.collect()) \n",
        "  \n",
        "     \n",
        "    while not clusteringDone:\n",
        " \n",
        "   \n",
        "        \n",
        "        joined = data.cartesian(centroides)\n",
        " \n",
        "        # We compute the distance between the points and each cluster\n",
        "        dist = joined.map(lambda x: (x[0][0],(x[1][0], computeDistance(x[0][1][:-1], x[1][1]))))\n",
        "        # (0, (0, 0.866025403784438))\n",
        " \n",
        "        dist_list = dist.groupByKey().mapValues(list)\n",
        "        # (0, [(0, 0.866025403784438), (1, 3.7), (2, 0.5385164807134504)])\n",
        " \n",
        "        # We keep only the closest cluster to each point.\n",
        "        min_dist = dist_list.mapValues(closestCluster)\n",
        "        # (0, (2, 0.5385164807134504))\n",
        " \n",
        "        # assignment will be our return value : It contains the datapoint,\n",
        "        # the id of the closest cluster and the distance of the point to the centroid\n",
        "        assignment = min_dist.join(data)\n",
        " \n",
        "        # (0, ((2, 0.5385164807134504), [5.1, 3.5, 1.4, 0.2, 'Iris-setosa']))\n",
        " \n",
        "         \n",
        "        clusters = assignment.map(lambda x: (x[1][0][0], x[1][1][:-1]))\n",
        "        clusters.getNumPartitions()\n",
        " #----------------------------------------------------------------OPTIMISATION: coalesce-------------------------------------------------------------------------------------------       \n",
        "        clusters.coalesce(3)\n",
        "\n",
        "        \n",
        " #----------------------------------------------------------------OPTIMISATION: Combine By Key---------------------------------------------------------------------------------------------------------\n",
        "       \n",
        "        centroidesCluster=clusters.combineByKey((lambda x:(x,1)),(lambda x,y:(sumList(x[0],y),(x[1]+1))),(lambda x,y: ( sumList(x[0],y[0]),x[1]+y[1])))\\\n",
        "                                  .map(lambda x:((x[0],moyenneList(x[1][0],x[1][1]))))\n",
        "\n",
        " #-----------------------------------------------------------------OPTIMISATION : Cache----------------------------------------------------------------------------------------------       \n",
        "        centroidesCluster.cache()\n",
        " #-----------------------------------------------------------------OPTIMISATION: broadcast------------------------------------------------------------------------------------------       \n",
        "        sc.broadcast(centroidesCluster.collect())                       \n",
        "        \"\"\" \n",
        "        count = clusters.map(lambda x: (x[0],1)).reduceByKey(lambda x,y: x+y)\n",
        "        somme = clusters.reduceByKey(sumList)\n",
        "        centroidesCluster = somme.join(count).map(lambda x : (x[0],moyenneList(x[1][0],x[1][1])))\n",
        "        \"\"\"\n",
        "        ############################\n",
        "        # Is the clustering over ? #\n",
        "        ############################\n",
        " \n",
        "        # Let's see how many points have switched clusters.\n",
        "        if number_of_steps > 0:\n",
        "            switch = prev_assignment.join(min_dist)\\\n",
        "                                    .filter(lambda x: x[1][0][0] != x[1][1][0])\\\n",
        "                                    .count()\n",
        "        else:\n",
        "            switch = 150\n",
        "\n",
        "        print('step',number_of_steps ,'-->','Num points have switched clusters: ',switch)\n",
        "\n",
        "        if switch == 0 or number_of_steps == 100:\n",
        "            clusteringDone = True\n",
        "            error = sqrt(min_dist.map(lambda x: x[1][1]).reduce(lambda x,y: x + y))/nb_elem.value\n",
        "        else:\n",
        "            centroides = centroidesCluster\n",
        "            prev_assignment = min_dist\n",
        "            number_of_steps += 1\n",
        "    print('number of steps finale: ',number_of_steps)\n",
        " \n",
        "    return (assignment, error, number_of_steps)"
      ],
      "execution_count": 0,
      "outputs": []
    },
    {
      "cell_type": "code",
      "metadata": {
        "id": "wMdJLtL6kPYZ",
        "colab_type": "code",
        "colab": {}
      },
      "source": [
        ""
      ],
      "execution_count": 0,
      "outputs": []
    },
    {
      "cell_type": "code",
      "metadata": {
        "id": "9BCEa0FKkchu",
        "colab_type": "code",
        "colab": {}
      },
      "source": [
        "lines=sc.textFile('iris.data.txt')"
      ],
      "execution_count": 0,
      "outputs": []
    },
    {
      "cell_type": "code",
      "metadata": {
        "id": "fET6NKS3mL0U",
        "colab_type": "code",
        "colab": {}
      },
      "source": [
        "data = lines.map(lambda x: x.split(','))\\\n",
        " .map(lambda x: [float(i) for i in x[:4]] + [x[4]])\\\n",
        " .zipWithIndex()\\\n",
        " .map(lambda x: (x[1], x[0])) "
      ],
      "execution_count": 0,
      "outputs": []
    },
    {
      "cell_type": "code",
      "metadata": {
        "id": "FaSvdqOQko99",
        "colab_type": "code",
        "outputId": "a527178b-1c22-458f-8810-75ba2b133507",
        "colab": {
          "base_uri": "https://localhost:8080/",
          "height": 175
        }
      },
      "source": [
        "%%time\n",
        "clustering = simpleKmeans(data,3)\n"
      ],
      "execution_count": 13,
      "outputs": [
        {
          "output_type": "stream",
          "text": [
            "step 0 --> Num points have switched clusters:  150\n",
            "step 1 --> Num points have switched clusters:  29\n",
            "step 2 --> Num points have switched clusters:  6\n",
            "step 3 --> Num points have switched clusters:  3\n",
            "step 4 --> Num points have switched clusters:  1\n",
            "step 5 --> Num points have switched clusters:  0\n",
            "number of steps finale:  5\n",
            "CPU times: user 834 ms, sys: 159 ms, total: 994 ms\n",
            "Wall time: 1min 51s\n"
          ],
          "name": "stdout"
        }
      ]
    },
    {
      "cell_type": "code",
      "metadata": {
        "id": "XfZADQovUH8b",
        "colab_type": "code",
        "colab": {}
      },
      "source": [
        ""
      ],
      "execution_count": 0,
      "outputs": []
    }
  ]
}